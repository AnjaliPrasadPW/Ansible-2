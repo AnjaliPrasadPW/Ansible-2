{
  "nbformat": 4,
  "nbformat_minor": 0,
  "metadata": {
    "colab": {
      "provenance": []
    },
    "kernelspec": {
      "name": "python3",
      "display_name": "Python 3"
    },
    "language_info": {
      "name": "python"
    }
  },
  "cells": [
    {
      "cell_type": "markdown",
      "source": [
        "Q1. Write Ansible playbooks to automate the setup and configuration of a web server (e.g., Apache or Nginx)?\n",
        "\n",
        "Ans: Step 1: Launch EC2 dynamically using Ansible\n",
        "\n",
        "Ansible has the amazon.aws.ec2 module to create EC2 instances. You need:\n",
        "\n",
        "AWS CLI configured (aws configure)\n",
        "\n",
        "Ansible collections: amazon.aws installed (ansible-galaxy collection install amazon.aws)"
      ],
      "metadata": {
        "id": "zT86HvLxyMA-"
      }
    },
    {
      "cell_type": "code",
      "execution_count": null,
      "metadata": {
        "id": "zh8fNtgTx5rS"
      },
      "outputs": [],
      "source": [
        "# Playbook: launch_ec2.yml\n",
        "\n",
        "- name: Launch EC2 Instance\n",
        "  hosts: localhost\n",
        "  gather_facts: false\n",
        "  tasks:\n",
        "    - name: Launch EC2 instance\n",
        "      amazon.aws.ec2:\n",
        "        key_name: my-keypair\n",
        "        instance_type: t2.micro\n",
        "        image_id: ami-0abcdef1234567890   # Use correct AMI ID for your region\n",
        "        wait: yes\n",
        "        region: us-east-1\n",
        "        count: 1\n",
        "        instance_tags:\n",
        "          Name: Ansible-WebServer\n",
        "      register: ec2\n",
        "\n",
        "    - name: Add new instance to host group\n",
        "      add_host:\n",
        "        hostname: \"{{ item.public_ip }}\"\n",
        "        groupname: launched\n",
        "      loop: \"{{ ec2.instances }}\"\n",
        "\n",
        "    - name: Wait for SSH to come up\n",
        "      wait_for:\n",
        "        host: \"{{ item.public_ip }}\"\n",
        "        port: 22\n",
        "        delay: 10\n",
        "        timeout: 300\n",
        "      loop: \"{{ ec2.instances }}\"\n"
      ]
    },
    {
      "cell_type": "markdown",
      "source": [
        "Step 2: Configure Web Server on EC2 Now you can create another playbook that runs on the newly launched instance."
      ],
      "metadata": {
        "id": "lZ_7SkGJydzr"
      }
    },
    {
      "cell_type": "code",
      "source": [
        "# Playbook: webserver_setup.yml\n",
        "\n",
        "- name: Setup Web Server\n",
        "  hosts: launched\n",
        "  become: yes\n",
        "  gather_facts: yes\n",
        "\n",
        "  tasks:\n",
        "    - name: Update apt cache\n",
        "      apt:\n",
        "        update_cache: yes\n",
        "\n",
        "    - name: Install Apache\n",
        "      apt:\n",
        "        name: apache2\n",
        "        state: present\n",
        "\n",
        "    - name: Ensure Apache service is running\n",
        "      service:\n",
        "        name: apache2\n",
        "        state: started\n",
        "        enabled: yes\n",
        "\n",
        "    - name: Deploy custom index.html\n",
        "      copy:\n",
        "        content: \"Hello from Ansible Managed EC2!\"\n",
        "        dest: /var/www/html/index.html\n",
        "\n",
        ""
      ],
      "metadata": {
        "id": "q-CkSFFhyheA"
      },
      "execution_count": null,
      "outputs": []
    },
    {
      "cell_type": "markdown",
      "source": [
        "\n",
        "Step 3: Run Both Playbooks Together You can create a main.yml to run sequentially:"
      ],
      "metadata": {
        "id": "5myIp1euyjvJ"
      }
    },
    {
      "cell_type": "code",
      "source": [
        "# Playbook: main.yml\n",
        "---\n",
        "- import_playbook: launch_ec2.yml\n",
        "- import_playbook: webserver_setup.yml\n",
        ""
      ],
      "metadata": {
        "id": "hIL0zTX9ymfq"
      },
      "execution_count": null,
      "outputs": []
    },
    {
      "cell_type": "markdown",
      "source": [
        "Step 4: Now Run this command on your CLI to run all ansible-playbook is:"
      ],
      "metadata": {
        "id": "4gaYQLBOyoVG"
      }
    },
    {
      "cell_type": "code",
      "source": [
        "\n",
        "\n",
        "ansible-playbook main.yml"
      ],
      "metadata": {
        "id": "mzWDpvbJypOO"
      },
      "execution_count": null,
      "outputs": []
    }
  ]
}